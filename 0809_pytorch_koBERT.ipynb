{
  "nbformat": 4,
  "nbformat_minor": 0,
  "metadata": {
    "kernelspec": {
      "display_name": "Python 3",
      "language": "python",
      "name": "python3"
    },
    "language_info": {
      "codemirror_mode": {
        "name": "ipython",
        "version": 3
      },
      "file_extension": ".py",
      "mimetype": "text/x-python",
      "name": "python",
      "nbconvert_exporter": "python",
      "pygments_lexer": "ipython3",
      "version": "3.7.6-final"
    },
    "colab": {
      "name": "0809_pytorch_koBERT",
      "provenance": [],
      "machine_shape": "hm",
      "include_colab_link": true
    },
    "accelerator": "GPU"
  },
  "cells": [
    {
      "cell_type": "markdown",
      "metadata": {
        "id": "view-in-github",
        "colab_type": "text"
      },
      "source": [
        "<a href=\"https://colab.research.google.com/github/jjeong-SH/Datacampus_team9/blob/main/0809_pytorch_koBERT.ipynb\" target=\"_parent\"><img src=\"https://colab.research.google.com/assets/colab-badge.svg\" alt=\"Open In Colab\"/></a>"
      ]
    },
    {
      "cell_type": "code",
      "metadata": {
        "colab": {
          "base_uri": "https://localhost:8080/"
        },
        "id": "5y3ujZH9512V",
        "outputId": "ef2df17a-f511-45c3-a395-302935795941"
      },
      "source": [
        "!pip install transformers==3.3.0"
      ],
      "execution_count": null,
      "outputs": [
        {
          "output_type": "stream",
          "text": [
            "Collecting transformers==3.3.0\n",
            "  Downloading transformers-3.3.0-py3-none-any.whl (1.1 MB)\n",
            "\u001b[K     |████████████████████████████████| 1.1 MB 4.8 MB/s \n",
            "\u001b[?25hCollecting sacremoses\n",
            "  Downloading sacremoses-0.0.45-py3-none-any.whl (895 kB)\n",
            "\u001b[K     |████████████████████████████████| 895 kB 16.5 MB/s \n",
            "\u001b[?25hRequirement already satisfied: filelock in /usr/local/lib/python3.7/dist-packages (from transformers==3.3.0) (3.0.12)\n",
            "Requirement already satisfied: numpy in /usr/local/lib/python3.7/dist-packages (from transformers==3.3.0) (1.19.5)\n",
            "Collecting sentencepiece!=0.1.92\n",
            "  Downloading sentencepiece-0.1.96-cp37-cp37m-manylinux_2_17_x86_64.manylinux2014_x86_64.whl (1.2 MB)\n",
            "\u001b[K     |████████████████████████████████| 1.2 MB 22.9 MB/s \n",
            "\u001b[?25hCollecting tokenizers==0.8.1.rc2\n",
            "  Downloading tokenizers-0.8.1rc2-cp37-cp37m-manylinux1_x86_64.whl (3.0 MB)\n",
            "\u001b[K     |████████████████████████████████| 3.0 MB 39.9 MB/s \n",
            "\u001b[?25hRequirement already satisfied: requests in /usr/local/lib/python3.7/dist-packages (from transformers==3.3.0) (2.23.0)\n",
            "Requirement already satisfied: regex!=2019.12.17 in /usr/local/lib/python3.7/dist-packages (from transformers==3.3.0) (2019.12.20)\n",
            "Requirement already satisfied: packaging in /usr/local/lib/python3.7/dist-packages (from transformers==3.3.0) (21.0)\n",
            "Requirement already satisfied: tqdm>=4.27 in /usr/local/lib/python3.7/dist-packages (from transformers==3.3.0) (4.41.1)\n",
            "Requirement already satisfied: pyparsing>=2.0.2 in /usr/local/lib/python3.7/dist-packages (from packaging->transformers==3.3.0) (2.4.7)\n",
            "Requirement already satisfied: idna<3,>=2.5 in /usr/local/lib/python3.7/dist-packages (from requests->transformers==3.3.0) (2.10)\n",
            "Requirement already satisfied: chardet<4,>=3.0.2 in /usr/local/lib/python3.7/dist-packages (from requests->transformers==3.3.0) (3.0.4)\n",
            "Requirement already satisfied: urllib3!=1.25.0,!=1.25.1,<1.26,>=1.21.1 in /usr/local/lib/python3.7/dist-packages (from requests->transformers==3.3.0) (1.24.3)\n",
            "Requirement already satisfied: certifi>=2017.4.17 in /usr/local/lib/python3.7/dist-packages (from requests->transformers==3.3.0) (2021.5.30)\n",
            "Requirement already satisfied: joblib in /usr/local/lib/python3.7/dist-packages (from sacremoses->transformers==3.3.0) (1.0.1)\n",
            "Requirement already satisfied: click in /usr/local/lib/python3.7/dist-packages (from sacremoses->transformers==3.3.0) (7.1.2)\n",
            "Requirement already satisfied: six in /usr/local/lib/python3.7/dist-packages (from sacremoses->transformers==3.3.0) (1.15.0)\n",
            "Installing collected packages: tokenizers, sentencepiece, sacremoses, transformers\n",
            "Successfully installed sacremoses-0.0.45 sentencepiece-0.1.96 tokenizers-0.8.1rc2 transformers-3.3.0\n"
          ],
          "name": "stdout"
        }
      ]
    },
    {
      "cell_type": "code",
      "metadata": {
        "colab": {
          "base_uri": "https://localhost:8080/"
        },
        "id": "CalgCKHB52Vs",
        "outputId": "124b6cba-046a-494b-d847-53043f95351c"
      },
      "source": [
        "!pip install mxnet"
      ],
      "execution_count": null,
      "outputs": [
        {
          "output_type": "stream",
          "text": [
            "Collecting mxnet\n",
            "  Downloading mxnet-1.8.0.post0-py2.py3-none-manylinux2014_x86_64.whl (46.9 MB)\n",
            "\u001b[K     |████████████████████████████████| 46.9 MB 77 kB/s \n",
            "\u001b[?25hRequirement already satisfied: requests<3,>=2.20.0 in /usr/local/lib/python3.7/dist-packages (from mxnet) (2.23.0)\n",
            "Requirement already satisfied: numpy<2.0.0,>1.16.0 in /usr/local/lib/python3.7/dist-packages (from mxnet) (1.19.5)\n",
            "Collecting graphviz<0.9.0,>=0.8.1\n",
            "  Downloading graphviz-0.8.4-py2.py3-none-any.whl (16 kB)\n",
            "Requirement already satisfied: idna<3,>=2.5 in /usr/local/lib/python3.7/dist-packages (from requests<3,>=2.20.0->mxnet) (2.10)\n",
            "Requirement already satisfied: certifi>=2017.4.17 in /usr/local/lib/python3.7/dist-packages (from requests<3,>=2.20.0->mxnet) (2021.5.30)\n",
            "Requirement already satisfied: urllib3!=1.25.0,!=1.25.1,<1.26,>=1.21.1 in /usr/local/lib/python3.7/dist-packages (from requests<3,>=2.20.0->mxnet) (1.24.3)\n",
            "Requirement already satisfied: chardet<4,>=3.0.2 in /usr/local/lib/python3.7/dist-packages (from requests<3,>=2.20.0->mxnet) (3.0.4)\n",
            "Installing collected packages: graphviz, mxnet\n",
            "  Attempting uninstall: graphviz\n",
            "    Found existing installation: graphviz 0.10.1\n",
            "    Uninstalling graphviz-0.10.1:\n",
            "      Successfully uninstalled graphviz-0.10.1\n",
            "Successfully installed graphviz-0.8.4 mxnet-1.8.0.post0\n"
          ],
          "name": "stdout"
        }
      ]
    },
    {
      "cell_type": "code",
      "metadata": {
        "colab": {
          "base_uri": "https://localhost:8080/"
        },
        "id": "tdAOWH8v53gV",
        "outputId": "4c4ecaa5-f6bf-4d6e-c986-4a425006c9a1"
      },
      "source": [
        "!pip install gluonnlp pandas tqdm"
      ],
      "execution_count": null,
      "outputs": [
        {
          "output_type": "stream",
          "text": [
            "Collecting gluonnlp\n",
            "  Downloading gluonnlp-0.10.0.tar.gz (344 kB)\n",
            "\u001b[?25l\r\u001b[K     |█                               | 10 kB 36.2 MB/s eta 0:00:01\r\u001b[K     |██                              | 20 kB 21.7 MB/s eta 0:00:01\r\u001b[K     |██▉                             | 30 kB 11.2 MB/s eta 0:00:01\r\u001b[K     |███▉                            | 40 kB 9.1 MB/s eta 0:00:01\r\u001b[K     |████▊                           | 51 kB 4.8 MB/s eta 0:00:01\r\u001b[K     |█████▊                          | 61 kB 5.2 MB/s eta 0:00:01\r\u001b[K     |██████▋                         | 71 kB 5.6 MB/s eta 0:00:01\r\u001b[K     |███████▋                        | 81 kB 6.4 MB/s eta 0:00:01\r\u001b[K     |████████▋                       | 92 kB 6.5 MB/s eta 0:00:01\r\u001b[K     |█████████▌                      | 102 kB 5.1 MB/s eta 0:00:01\r\u001b[K     |██████████▌                     | 112 kB 5.1 MB/s eta 0:00:01\r\u001b[K     |███████████▍                    | 122 kB 5.1 MB/s eta 0:00:01\r\u001b[K     |████████████▍                   | 133 kB 5.1 MB/s eta 0:00:01\r\u001b[K     |█████████████▎                  | 143 kB 5.1 MB/s eta 0:00:01\r\u001b[K     |██████████████▎                 | 153 kB 5.1 MB/s eta 0:00:01\r\u001b[K     |███████████████▏                | 163 kB 5.1 MB/s eta 0:00:01\r\u001b[K     |████████████████▏               | 174 kB 5.1 MB/s eta 0:00:01\r\u001b[K     |█████████████████▏              | 184 kB 5.1 MB/s eta 0:00:01\r\u001b[K     |██████████████████              | 194 kB 5.1 MB/s eta 0:00:01\r\u001b[K     |███████████████████             | 204 kB 5.1 MB/s eta 0:00:01\r\u001b[K     |████████████████████            | 215 kB 5.1 MB/s eta 0:00:01\r\u001b[K     |█████████████████████           | 225 kB 5.1 MB/s eta 0:00:01\r\u001b[K     |█████████████████████▉          | 235 kB 5.1 MB/s eta 0:00:01\r\u001b[K     |██████████████████████▉         | 245 kB 5.1 MB/s eta 0:00:01\r\u001b[K     |███████████████████████▉        | 256 kB 5.1 MB/s eta 0:00:01\r\u001b[K     |████████████████████████▊       | 266 kB 5.1 MB/s eta 0:00:01\r\u001b[K     |█████████████████████████▊      | 276 kB 5.1 MB/s eta 0:00:01\r\u001b[K     |██████████████████████████▋     | 286 kB 5.1 MB/s eta 0:00:01\r\u001b[K     |███████████████████████████▋    | 296 kB 5.1 MB/s eta 0:00:01\r\u001b[K     |████████████████████████████▌   | 307 kB 5.1 MB/s eta 0:00:01\r\u001b[K     |█████████████████████████████▌  | 317 kB 5.1 MB/s eta 0:00:01\r\u001b[K     |██████████████████████████████▍ | 327 kB 5.1 MB/s eta 0:00:01\r\u001b[K     |███████████████████████████████▍| 337 kB 5.1 MB/s eta 0:00:01\r\u001b[K     |████████████████████████████████| 344 kB 5.1 MB/s \n",
            "\u001b[?25hRequirement already satisfied: pandas in /usr/local/lib/python3.7/dist-packages (1.1.5)\n",
            "Requirement already satisfied: tqdm in /usr/local/lib/python3.7/dist-packages (4.41.1)\n",
            "Requirement already satisfied: numpy>=1.16.0 in /usr/local/lib/python3.7/dist-packages (from gluonnlp) (1.19.5)\n",
            "Requirement already satisfied: cython in /usr/local/lib/python3.7/dist-packages (from gluonnlp) (0.29.23)\n",
            "Requirement already satisfied: packaging in /usr/local/lib/python3.7/dist-packages (from gluonnlp) (21.0)\n",
            "Requirement already satisfied: python-dateutil>=2.7.3 in /usr/local/lib/python3.7/dist-packages (from pandas) (2.8.1)\n",
            "Requirement already satisfied: pytz>=2017.2 in /usr/local/lib/python3.7/dist-packages (from pandas) (2018.9)\n",
            "Requirement already satisfied: six>=1.5 in /usr/local/lib/python3.7/dist-packages (from python-dateutil>=2.7.3->pandas) (1.15.0)\n",
            "Requirement already satisfied: pyparsing>=2.0.2 in /usr/local/lib/python3.7/dist-packages (from packaging->gluonnlp) (2.4.7)\n",
            "Building wheels for collected packages: gluonnlp\n",
            "  Building wheel for gluonnlp (setup.py) ... \u001b[?25l\u001b[?25hdone\n",
            "  Created wheel for gluonnlp: filename=gluonnlp-0.10.0-cp37-cp37m-linux_x86_64.whl size=595746 sha256=4dac26d23b260f79cb8334c8ed291e7891f37e9cff685c1c6e522f938935361d\n",
            "  Stored in directory: /root/.cache/pip/wheels/be/b4/06/7f3fdfaf707e6b5e98b79c041e023acffbe395d78a527eae00\n",
            "Successfully built gluonnlp\n",
            "Installing collected packages: gluonnlp\n",
            "Successfully installed gluonnlp-0.10.0\n"
          ],
          "name": "stdout"
        }
      ]
    },
    {
      "cell_type": "code",
      "metadata": {
        "colab": {
          "base_uri": "https://localhost:8080/"
        },
        "id": "-zDVHUIU56A5",
        "outputId": "864ba628-df44-4c9f-959d-3df4e72eb699"
      },
      "source": [
        "!pip install sentencepiece"
      ],
      "execution_count": null,
      "outputs": [
        {
          "output_type": "stream",
          "text": [
            "Requirement already satisfied: sentencepiece in /usr/local/lib/python3.7/dist-packages (0.1.96)\n"
          ],
          "name": "stdout"
        }
      ]
    },
    {
      "cell_type": "code",
      "metadata": {
        "colab": {
          "base_uri": "https://localhost:8080/"
        },
        "id": "cq0bcmd5rcNY",
        "outputId": "bb17d662-445d-4831-f65d-a96f772865a4"
      },
      "source": [
        "!pip install kss"
      ],
      "execution_count": null,
      "outputs": [
        {
          "output_type": "stream",
          "text": [
            "Collecting kss\n",
            "  Downloading kss-2.5.1-py3-none-any.whl (65 kB)\n",
            "\u001b[?25l\r\u001b[K     |█████                           | 10 kB 34.6 MB/s eta 0:00:01\r\u001b[K     |██████████                      | 20 kB 22.6 MB/s eta 0:00:01\r\u001b[K     |███████████████                 | 30 kB 11.5 MB/s eta 0:00:01\r\u001b[K     |███████████████████▉            | 40 kB 9.2 MB/s eta 0:00:01\r\u001b[K     |████████████████████████▉       | 51 kB 5.1 MB/s eta 0:00:01\r\u001b[K     |█████████████████████████████▉  | 61 kB 5.6 MB/s eta 0:00:01\r\u001b[K     |████████████████████████████████| 65 kB 2.8 MB/s \n",
            "\u001b[?25hInstalling collected packages: kss\n",
            "Successfully installed kss-2.5.1\n"
          ],
          "name": "stdout"
        }
      ]
    },
    {
      "cell_type": "code",
      "metadata": {
        "id": "qfQMLZopuQ89",
        "colab": {
          "base_uri": "https://localhost:8080/"
        },
        "outputId": "f6228c14-9d64-4a8e-ea4e-d9ea0f326121"
      },
      "source": [
        "!pip install git+https://git@github.com/SKTBrain/KoBERT.git@master"
      ],
      "execution_count": null,
      "outputs": [
        {
          "output_type": "stream",
          "text": [
            "Collecting git+https://****@github.com/SKTBrain/KoBERT.git@master\n",
            "  Cloning https://****@github.com/SKTBrain/KoBERT.git (to revision master) to /tmp/pip-req-build-asrcw83_\n",
            "  Running command git clone -q 'https://****@github.com/SKTBrain/KoBERT.git' /tmp/pip-req-build-asrcw83_\n",
            "Building wheels for collected packages: kobert\n",
            "  Building wheel for kobert (setup.py) ... \u001b[?25l\u001b[?25hdone\n",
            "  Created wheel for kobert: filename=kobert-0.1.2-py3-none-any.whl size=12770 sha256=03c03c7939850f1903f17f461f536304cd4aa8ec2742ca391b5693a9abeda517\n",
            "  Stored in directory: /tmp/pip-ephem-wheel-cache-5cpkqn74/wheels/d3/68/ca/334747dfb038313b49cf71f84832a33372f3470d9ddfd051c0\n",
            "Successfully built kobert\n",
            "Installing collected packages: kobert\n",
            "Successfully installed kobert-0.1.2\n"
          ],
          "name": "stdout"
        }
      ]
    },
    {
      "cell_type": "code",
      "metadata": {
        "id": "RPGHDwnzuQ8-"
      },
      "source": [
        "import torch\n",
        "from torch import nn\n",
        "import torch.nn.functional as F\n",
        "import torch.optim as optim\n",
        "from torch.utils.data import Dataset, DataLoader\n",
        "import gluonnlp as nlp\n",
        "import numpy as np\n",
        "from tqdm import tqdm"
      ],
      "execution_count": null,
      "outputs": []
    },
    {
      "cell_type": "code",
      "metadata": {
        "id": "cO0K_Fv3uQ8-"
      },
      "source": [
        "from kobert.utils import get_tokenizer\n",
        "from kobert.pytorch_kobert import get_pytorch_kobert_model"
      ],
      "execution_count": null,
      "outputs": []
    },
    {
      "cell_type": "code",
      "metadata": {
        "id": "OBtkRJOpuQ8_"
      },
      "source": [
        "from transformers import AdamW\n",
        "from transformers.optimization import get_cosine_schedule_with_warmup"
      ],
      "execution_count": null,
      "outputs": []
    },
    {
      "cell_type": "code",
      "metadata": {
        "id": "DU4ZXmv6uQ8_"
      },
      "source": [
        "##GPU 사용 시\n",
        "device = torch.device(\"cuda:0\")"
      ],
      "execution_count": null,
      "outputs": []
    },
    {
      "cell_type": "code",
      "metadata": {
        "id": "Urf_mYuquQ9A",
        "colab": {
          "base_uri": "https://localhost:8080/"
        },
        "outputId": "9a0347a6-2a16-4034-eaa6-2f008ee0a78b"
      },
      "source": [
        "bertmodel, vocab = get_pytorch_kobert_model()"
      ],
      "execution_count": null,
      "outputs": [
        {
          "output_type": "stream",
          "text": [
            "[██████████████████████████████████████████████████]\n",
            "[██████████████████████████████████████████████████]\n"
          ],
          "name": "stdout"
        }
      ]
    },
    {
      "cell_type": "code",
      "metadata": {
        "id": "GxMaGNYdvzgt"
      },
      "source": [
        "import pandas as pd\n",
        "import numpy as np\n",
        "import matplotlib.pyplot as plt\n",
        "import seaborn as sns\n",
        "import re"
      ],
      "execution_count": null,
      "outputs": []
    },
    {
      "cell_type": "code",
      "metadata": {
        "colab": {
          "base_uri": "https://localhost:8080/"
        },
        "id": "Oc4yIq68viXt",
        "outputId": "4f490517-2976-4595-a09b-7cc681c7c223"
      },
      "source": [
        "from google.colab import drive\n",
        "drive.mount('/content/drive')"
      ],
      "execution_count": null,
      "outputs": [
        {
          "output_type": "stream",
          "text": [
            "Mounted at /content/drive\n"
          ],
          "name": "stdout"
        }
      ]
    },
    {
      "cell_type": "code",
      "metadata": {
        "id": "TgdIZLUIviVI"
      },
      "source": [
        "df = pd.read_csv('/content/drive/MyDrive/데청캠_teamproject/정상희/0807_dataaug_onlytales.csv', encoding='utf-8-sig')"
      ],
      "execution_count": null,
      "outputs": []
    },
    {
      "cell_type": "code",
      "metadata": {
        "colab": {
          "base_uri": "https://localhost:8080/",
          "height": 407
        },
        "id": "IrmHvLhwviSl",
        "outputId": "40b9e171-c8ba-48e1-c362-0949dd168fab"
      },
      "source": [
        "df.sample(10)"
      ],
      "execution_count": null,
      "outputs": [
        {
          "output_type": "execute_result",
          "data": {
            "text/html": [
              "<div>\n",
              "<style scoped>\n",
              "    .dataframe tbody tr th:only-of-type {\n",
              "        vertical-align: middle;\n",
              "    }\n",
              "\n",
              "    .dataframe tbody tr th {\n",
              "        vertical-align: top;\n",
              "    }\n",
              "\n",
              "    .dataframe thead th {\n",
              "        text-align: right;\n",
              "    }\n",
              "</style>\n",
              "<table border=\"1\" class=\"dataframe\">\n",
              "  <thead>\n",
              "    <tr style=\"text-align: right;\">\n",
              "      <th></th>\n",
              "      <th>wav_id</th>\n",
              "      <th>contents</th>\n",
              "      <th>sentiment</th>\n",
              "    </tr>\n",
              "  </thead>\n",
              "  <tbody>\n",
              "    <tr>\n",
              "      <th>22011</th>\n",
              "      <td>5e363f5a8661d6073410fe4b</td>\n",
              "      <td>으! 화장실에 누가 토하고 안 치웠어!</td>\n",
              "      <td>disgust</td>\n",
              "    </tr>\n",
              "    <tr>\n",
              "      <th>17601</th>\n",
              "      <td>5f07cb60b140144dfcff0b24</td>\n",
              "      <td>잠깐 쉬었으니 다 들어가서 일해야지 내일까지 마감해야 되거든.\\t</td>\n",
              "      <td>sadness</td>\n",
              "    </tr>\n",
              "    <tr>\n",
              "      <th>20734</th>\n",
              "      <td>5ece4c2b2880d70f28611ff8</td>\n",
              "      <td>지금 당장 관리하시는 분한테 화장실 사건에 대해서 말씀 드려야겠어. 얼른 처리해달라...</td>\n",
              "      <td>disgust</td>\n",
              "    </tr>\n",
              "    <tr>\n",
              "      <th>6607</th>\n",
              "      <td>5f8da3c19e04b149046cd6a1</td>\n",
              "      <td>선수는 아니고 내가 운동을 좋아해서 시작했어.</td>\n",
              "      <td>happiness</td>\n",
              "    </tr>\n",
              "    <tr>\n",
              "      <th>9975</th>\n",
              "      <td>5fb8918c576e9378b67ac2d8</td>\n",
              "      <td>좋은 생각이다. 나쁘지 않을 것 같아. 고마워.</td>\n",
              "      <td>anger</td>\n",
              "    </tr>\n",
              "    <tr>\n",
              "      <th>2863</th>\n",
              "      <td>5f6705a5d338b948c4e6823e</td>\n",
              "      <td>다행히 빨리 잡아서 진정이 됐어.</td>\n",
              "      <td>surprise</td>\n",
              "    </tr>\n",
              "    <tr>\n",
              "      <th>13829</th>\n",
              "      <td>5fbdd1afcb503578af9eeb39</td>\n",
              "      <td>응. 완전 해방이야. 이제 친구들이랑 놀 거야.</td>\n",
              "      <td>happiness</td>\n",
              "    </tr>\n",
              "    <tr>\n",
              "      <th>20495</th>\n",
              "      <td>5f08018bb140144dfcff0f32</td>\n",
              "      <td>지금 바이러스가 한참 퍼져있는 강남이야.</td>\n",
              "      <td>fear</td>\n",
              "    </tr>\n",
              "    <tr>\n",
              "      <th>6391</th>\n",
              "      <td>5f8cd13e9e04b149046cd56a</td>\n",
              "      <td>비가 와도 걱정 안 해도 돼. 사무실에 우산 있어.</td>\n",
              "      <td>neutral</td>\n",
              "    </tr>\n",
              "    <tr>\n",
              "      <th>11029</th>\n",
              "      <td>5fb9fbb244697678c497b255</td>\n",
              "      <td>축하해줘. 기분 좋은 일이 생겼어.</td>\n",
              "      <td>happiness</td>\n",
              "    </tr>\n",
              "  </tbody>\n",
              "</table>\n",
              "</div>"
            ],
            "text/plain": [
              "                         wav_id  ...  sentiment\n",
              "22011  5e363f5a8661d6073410fe4b  ...    disgust\n",
              "17601  5f07cb60b140144dfcff0b24  ...    sadness\n",
              "20734  5ece4c2b2880d70f28611ff8  ...    disgust\n",
              "6607   5f8da3c19e04b149046cd6a1  ...  happiness\n",
              "9975   5fb8918c576e9378b67ac2d8  ...      anger\n",
              "2863   5f6705a5d338b948c4e6823e  ...   surprise\n",
              "13829  5fbdd1afcb503578af9eeb39  ...  happiness\n",
              "20495  5f08018bb140144dfcff0f32  ...       fear\n",
              "6391   5f8cd13e9e04b149046cd56a  ...    neutral\n",
              "11029  5fb9fbb244697678c497b255  ...  happiness\n",
              "\n",
              "[10 rows x 3 columns]"
            ]
          },
          "metadata": {
            "tags": []
          },
          "execution_count": 15
        }
      ]
    },
    {
      "cell_type": "code",
      "metadata": {
        "colab": {
          "base_uri": "https://localhost:8080/"
        },
        "id": "RvvmSxnGviPv",
        "outputId": "6d40eb8f-f63c-4c9d-e36b-f1ff4b54d3d9"
      },
      "source": [
        "print('전체 data 개수: {}'.format(len(df)))"
      ],
      "execution_count": null,
      "outputs": [
        {
          "output_type": "stream",
          "text": [
            "전체 data 개수: 26369\n"
          ],
          "name": "stdout"
        }
      ]
    },
    {
      "cell_type": "code",
      "metadata": {
        "id": "q1zTbMVsviMl"
      },
      "source": [
        "sents = pd.Series(df['contents'].tolist()).astype(str)\n",
        "sents_length = sents.apply(len)  # 띄어쓰기 포함"
      ],
      "execution_count": null,
      "outputs": []
    },
    {
      "cell_type": "code",
      "metadata": {
        "colab": {
          "base_uri": "https://localhost:8080/",
          "height": 386
        },
        "id": "oT_3iaruv_Sy",
        "outputId": "85411d12-bcef-4925-e295-e9018890d2d0"
      },
      "source": [
        "# Visualize by graph\n",
        "plt.figure(figsize=(10, 5))\n",
        "plt.hist(sents_length, bins=150, range=[0,150], facecolor='r', density=True)\n",
        "plt.title('Distribution of length of sentence', fontsize=12)\n",
        "plt.legend()\n",
        "plt.xlabel('Length', fontsize=10)\n",
        "plt.ylabel('Probability', fontsize=10)"
      ],
      "execution_count": null,
      "outputs": [
        {
          "output_type": "stream",
          "text": [
            "No handles with labels found to put in legend.\n"
          ],
          "name": "stderr"
        },
        {
          "output_type": "execute_result",
          "data": {
            "text/plain": [
              "Text(0, 0.5, 'Probability')"
            ]
          },
          "metadata": {
            "tags": []
          },
          "execution_count": 18
        },
        {
          "output_type": "display_data",
          "data": {
            "image/png": "[encoded data removed]",
            "text/plain": [
              "<Figure size 720x360 with 1 Axes>"
            ]
          },
          "metadata": {
            "tags": [],
            "needs_background": "light"
          }
        }
      ]
    },
    {
      "cell_type": "code",
      "metadata": {
        "colab": {
          "base_uri": "https://localhost:8080/"
        },
        "id": "u6H8v80sv_Qu",
        "outputId": "2ebdba3a-672a-4078-d615-5781e6eaa2ac"
      },
      "source": [
        "print(\"문장 길이 최댓값 : \", np.max(sents_length))\n",
        "print(\"문장 길이 최솟값 : \", np.min(sents_length))\n",
        "print(\"문장 길이 평균값 : \", np.mean(sents_length))\n",
        "print(\"문장 길이 표준편차 : \", np.std(sents_length))\n",
        "print(\"문장 길이 제1사분위 : \", np.percentile(sents_length,25))\n",
        "print(\"문장 길이 제3사분위 : \", np.percentile(sents_length, 75))\n",
        "print(\"문장 길이 99퍼센트 : \", np.percentile(sents_length, 99))"
      ],
      "execution_count": null,
      "outputs": [
        {
          "output_type": "stream",
          "text": [
            "문장 길이 최댓값 :  122\n",
            "문장 길이 최솟값 :  2\n",
            "문장 길이 평균값 :  26.236717357503128\n",
            "문장 길이 표준편차 :  12.942338669588445\n",
            "문장 길이 제1사분위 :  17.0\n",
            "문장 길이 제3사분위 :  33.0\n",
            "문장 길이 99퍼센트 :  67.0\n"
          ],
          "name": "stdout"
        }
      ]
    },
    {
      "cell_type": "code",
      "metadata": {
        "colab": {
          "base_uri": "https://localhost:8080/",
          "height": 242
        },
        "id": "ia1FCE_Lv_Oe",
        "outputId": "faef1565-8bfc-40d1-a881-aa682640adbe"
      },
      "source": [
        "fig, axe = plt.subplots(ncols=1)\n",
        "fig.set_size_inches(10, 3)\n",
        "sns.countplot(data=df, x=df['sentiment'])"
      ],
      "execution_count": null,
      "outputs": [
        {
          "output_type": "execute_result",
          "data": {
            "text/plain": [
              "<matplotlib.axes._subplots.AxesSubplot at 0x7f8eef56d350>"
            ]
          },
          "metadata": {
            "tags": []
          },
          "execution_count": 20
        },
        {
          "output_type": "display_data",
          "data": {
            "image/png": "[encoded data removed]",
            "text/plain": [
              "<Figure size 720x216 with 1 Axes>"
            ]
          },
          "metadata": {
            "tags": [],
            "needs_background": "light"
          }
        }
      ]
    },
    {
      "cell_type": "code",
      "metadata": {
        "id": "8N6nRlNWv_MB"
      },
      "source": [
        "def cleaning(sent):\n",
        "  sent_clean = re.sub(\"[\\t\\n]\", \"\", sent)\n",
        "  sent_clean = re.sub(\"[^가-힣ㄱ-하-ㅣ!.,?\\\\d\\\\s]\", \"\", sent_clean)\n",
        "  sent_clean = re.sub(\"\\s{2,}\", \" \", sent_clean)\n",
        "  return sent_clean\n",
        "\n",
        "label_dict = {'neutral':0, 'happiness':1, 'surprise':2, 'disgust':3, 'fear':4, 'anger':5, 'sadness':6}\n",
        "def convert_int(label):\n",
        "  num_label = label_dict[label]\n",
        "  return num_label\n",
        "\n",
        "df['sentiment_id'] = df['sentiment'].apply(convert_int)"
      ],
      "execution_count": null,
      "outputs": []
    },
    {
      "cell_type": "code",
      "metadata": {
        "colab": {
          "base_uri": "https://localhost:8080/",
          "height": 270
        },
        "id": "f0qagdu7v_Jy",
        "outputId": "ddfbc9ef-9980-4278-971a-6ee5b4b1724e"
      },
      "source": [
        "df.sample(5)"
      ],
      "execution_count": null,
      "outputs": [
        {
          "output_type": "execute_result",
          "data": {
            "text/html": [
              "<div>\n",
              "<style scoped>\n",
              "    .dataframe tbody tr th:only-of-type {\n",
              "        vertical-align: middle;\n",
              "    }\n",
              "\n",
              "    .dataframe tbody tr th {\n",
              "        vertical-align: top;\n",
              "    }\n",
              "\n",
              "    .dataframe thead th {\n",
              "        text-align: right;\n",
              "    }\n",
              "</style>\n",
              "<table border=\"1\" class=\"dataframe\">\n",
              "  <thead>\n",
              "    <tr style=\"text-align: right;\">\n",
              "      <th></th>\n",
              "      <th>wav_id</th>\n",
              "      <th>contents</th>\n",
              "      <th>sentiment</th>\n",
              "      <th>sentiment_id</th>\n",
              "    </tr>\n",
              "  </thead>\n",
              "  <tbody>\n",
              "    <tr>\n",
              "      <th>19218</th>\n",
              "      <td>5eccb0e4c90a530ee56b5596</td>\n",
              "      <td>매일 드시는 것 같아. 매주 5일은 드시지.</td>\n",
              "      <td>anger</td>\n",
              "      <td>5</td>\n",
              "    </tr>\n",
              "    <tr>\n",
              "      <th>10290</th>\n",
              "      <td>5fbb816f4c55eb78bd7ce67f</td>\n",
              "      <td>생각해보니 내가 잘못한거 같아.</td>\n",
              "      <td>neutral</td>\n",
              "      <td>0</td>\n",
              "    </tr>\n",
              "    <tr>\n",
              "      <th>13072</th>\n",
              "      <td>5fbb6839576e9378b67acb59</td>\n",
              "      <td>당연하지. 사진 찍었어.</td>\n",
              "      <td>disgust</td>\n",
              "      <td>3</td>\n",
              "    </tr>\n",
              "    <tr>\n",
              "      <th>4971</th>\n",
              "      <td>5f6ddfd4111dfd48d40fd1f0</td>\n",
              "      <td>난 영화 보는 걸로 선택할게. 영화 좀 추천해줘.</td>\n",
              "      <td>anger</td>\n",
              "      <td>5</td>\n",
              "    </tr>\n",
              "    <tr>\n",
              "      <th>11103</th>\n",
              "      <td>5fb9c8214c55eb78bd7cdfd6</td>\n",
              "      <td>주식으로 너무 많이 잃어서 인생 좆됐어 진짜.</td>\n",
              "      <td>sadness</td>\n",
              "      <td>6</td>\n",
              "    </tr>\n",
              "  </tbody>\n",
              "</table>\n",
              "</div>"
            ],
            "text/plain": [
              "                         wav_id  ... sentiment_id\n",
              "19218  5eccb0e4c90a530ee56b5596  ...            5\n",
              "10290  5fbb816f4c55eb78bd7ce67f  ...            0\n",
              "13072  5fbb6839576e9378b67acb59  ...            3\n",
              "4971   5f6ddfd4111dfd48d40fd1f0  ...            5\n",
              "11103  5fb9c8214c55eb78bd7cdfd6  ...            6\n",
              "\n",
              "[5 rows x 4 columns]"
            ]
          },
          "metadata": {
            "tags": []
          },
          "execution_count": 22
        }
      ]
    },
    {
      "cell_type": "code",
      "metadata": {
        "colab": {
          "base_uri": "https://localhost:8080/"
        },
        "id": "lInKC4nwxNe7",
        "outputId": "071bf635-c9cc-4d29-e823-b71f85a166f2"
      },
      "source": [
        "from sklearn.model_selection import train_test_split\n",
        "\n",
        "train_data,test_data = train_test_split(df, test_size=0.1, stratify=df['sentiment_id'], random_state=123)\n",
        "# 레이블 수가 고르지 않아서 validation set 만들때 stratified를 못쓴다...\n",
        "print('PROPORTION OF TARGET IN THE ORIGINAL DATA')\n",
        "print(df['sentiment_id'].value_counts() / len(df))\n",
        "print('\\n')\n",
        "print('PROPORTION OF TARGET IN THE TRAINING SET')\n",
        "print(train_data['sentiment_id'].value_counts() / len(train_data))\n",
        "print('\\n')\n",
        "print('PROPORTION OF TARGET IN THE TEST SET')\n",
        "print(test_data['sentiment_id'].value_counts() / len(test_data))"
      ],
      "execution_count": null,
      "outputs": [
        {
          "output_type": "stream",
          "text": [
            "PROPORTION OF TARGET IN THE ORIGINAL DATA\n",
            "6    0.198036\n",
            "1    0.197998\n",
            "5    0.145246\n",
            "3    0.142326\n",
            "0    0.131859\n",
            "4    0.129546\n",
            "2    0.054989\n",
            "Name: sentiment_id, dtype: float64\n",
            "\n",
            "\n",
            "PROPORTION OF TARGET IN THE TRAINING SET\n",
            "6    0.198045\n",
            "1    0.198003\n",
            "5    0.145247\n",
            "3    0.142339\n",
            "0    0.131847\n",
            "4    0.129530\n",
            "2    0.054989\n",
            "Name: sentiment_id, dtype: float64\n",
            "\n",
            "\n",
            "PROPORTION OF TARGET IN THE TEST SET\n",
            "1    0.197952\n",
            "6    0.197952\n",
            "5    0.145241\n",
            "3    0.142207\n",
            "0    0.131968\n",
            "4    0.129693\n",
            "2    0.054987\n",
            "Name: sentiment_id, dtype: float64\n"
          ],
          "name": "stdout"
        }
      ]
    },
    {
      "cell_type": "code",
      "metadata": {
        "colab": {
          "base_uri": "https://localhost:8080/"
        },
        "id": "pb8UXhewyAp4",
        "outputId": "66dd699f-8c23-4bdf-d3e1-9a62af9258ca"
      },
      "source": [
        "print(\"train data 크기: {}\".format(train_data.shape))\n",
        "print(\"test data 크기: {}\".format(test_data.shape))"
      ],
      "execution_count": null,
      "outputs": [
        {
          "output_type": "stream",
          "text": [
            "train data 크기: (23732, 4)\n",
            "test data 크기: (2637, 4)\n"
          ],
          "name": "stdout"
        }
      ]
    },
    {
      "cell_type": "code",
      "metadata": {
        "id": "Ikq-7rJ4FHA9"
      },
      "source": [
        "def to_datasets(df):\n",
        "  set_list = []\n",
        "  for sent, label in tqdm(zip(df['contents'], df['sentiment_id']), total=len(df)):\n",
        "    try:\n",
        "        data = []\n",
        "        data.append(cleaning(sent))\n",
        "        data.append(str(label))\n",
        "        set_list.append(data)\n",
        "\n",
        "    except Exception as e:\n",
        "        print(e)\n",
        "        print(sent)\n",
        "        pass\n",
        "        \n",
        "  return set_list"
      ],
      "execution_count": null,
      "outputs": []
    },
    {
      "cell_type": "code",
      "metadata": {
        "colab": {
          "base_uri": "https://localhost:8080/"
        },
        "id": "hFsqO8YfFh6W",
        "outputId": "0ccbc3a7-3ca8-4a94-f2fe-67f591892e46"
      },
      "source": [
        "dataset_train = to_datasets(train_data)\n",
        "dataset_test = to_datasets(test_data)"
      ],
      "execution_count": null,
      "outputs": [
        {
          "output_type": "stream",
          "text": [
            "100%|██████████| 23732/23732 [00:00<00:00, 180995.54it/s]\n",
            "100%|██████████| 2637/2637 [00:00<00:00, 191927.18it/s]\n"
          ],
          "name": "stderr"
        }
      ]
    },
    {
      "cell_type": "code",
      "metadata": {
        "colab": {
          "base_uri": "https://localhost:8080/"
        },
        "id": "SWsG8SAmxNcE",
        "outputId": "b0f45d31-d524-423c-8812-73639e443c76"
      },
      "source": [
        "# print examples\n",
        "print(dataset_train[0])\n",
        "print(dataset_train[6000])\n",
        "print(dataset_train[12000])\n",
        "print(dataset_train[18000])"
      ],
      "execution_count": null,
      "outputs": [
        {
          "output_type": "stream",
          "text": [
            "['이따가 친구 만나서 병원에 같이 가보기로 했어.', '4']\n",
            "['바쁘게 진행하는 일이 끝나면 가려고 했는데 요즘 정말 바빠 시간을 낼 수가 없어.', '6']\n",
            "['헐! 나 이벤트 당첨됐어.', '1']\n",
            "['곰팡이 제거제가 곰팡이를 제거하는데 효과가 있대?', '5']\n"
          ],
          "name": "stdout"
        }
      ]
    },
    {
      "cell_type": "code",
      "metadata": {
        "id": "CIYpQrscuQ9C"
      },
      "source": [
        "class BERTDataset(Dataset):\n",
        "    def __init__(self, dataset, sent_idx, label_idx, bert_tokenizer, max_len,\n",
        "                 pad, pair):\n",
        "        transform = nlp.data.BERTSentenceTransform(\n",
        "            bert_tokenizer, max_seq_length=max_len, pad=pad, pair=pair)\n",
        "\n",
        "        self.sentences = [transform([i[sent_idx]]) for i in dataset]\n",
        "        self.labels = [np.int32(i[label_idx]) for i in dataset]\n",
        "\n",
        "    def __getitem__(self, i):\n",
        "        return (self.sentences[i] + (self.labels[i], ))\n",
        "\n",
        "    def __len__(self):\n",
        "        return (len(self.labels))"
      ],
      "execution_count": null,
      "outputs": []
    },
    {
      "cell_type": "code",
      "metadata": {
        "id": "4vA7I58fuQ9C"
      },
      "source": [
        "## Setting parameters\n",
        "max_len = int(np.percentile(sents_length, 85))\n",
        "batch_size = 32\n",
        "warmup_ratio = 0.1\n",
        "num_epochs = 20\n",
        "max_grad_norm = 1\n",
        "log_interval = 200\n",
        "learning_rate = 3e-5\n",
        "patience = 3"
      ],
      "execution_count": null,
      "outputs": []
    },
    {
      "cell_type": "code",
      "metadata": {
        "colab": {
          "base_uri": "https://localhost:8080/"
        },
        "id": "odaLEkVnzfAN",
        "outputId": "fbff96d1-4d59-45b3-f4f3-f4d18e68f2ae"
      },
      "source": [
        "# tokenize\n",
        "tokenizer = get_tokenizer()\n",
        "tok = nlp.data.BERTSPTokenizer(tokenizer, vocab, lower=False)"
      ],
      "execution_count": null,
      "outputs": [
        {
          "output_type": "stream",
          "text": [
            "using cached model\n"
          ],
          "name": "stdout"
        }
      ]
    },
    {
      "cell_type": "code",
      "metadata": {
        "id": "CnyL8-BLuQ9C"
      },
      "source": [
        "data_train = BERTDataset(dataset_train, 0, 1, tok, max_len, True, False)\n",
        "data_test = BERTDataset(dataset_test, 0, 1, tok, max_len, True, False)"
      ],
      "execution_count": null,
      "outputs": []
    },
    {
      "cell_type": "code",
      "metadata": {
        "colab": {
          "base_uri": "https://localhost:8080/"
        },
        "id": "QBDJQv2m0Ytg",
        "outputId": "d7269ccc-ac2f-4811-9cd0-bea86a6776fc"
      },
      "source": [
        "data_train[0]"
      ],
      "execution_count": null,
      "outputs": [
        {
          "output_type": "execute_result",
          "data": {
            "text/plain": [
              "(array([   2, 3647, 5959, 5330, 4627, 1933, 6553, 2353, 6896,  834,  517,\n",
              "        5330, 6368, 6079, 5017, 6855,  517,   54,    3,    1,    1,    1,\n",
              "           1,    1,    1,    1,    1,    1,    1,    1,    1,    1,    1,\n",
              "           1,    1,    1,    1,    1,    1], dtype=int32),\n",
              " array(19, dtype=int32),\n",
              " array([0, 0, 0, 0, 0, 0, 0, 0, 0, 0, 0, 0, 0, 0, 0, 0, 0, 0, 0, 0, 0, 0,\n",
              "        0, 0, 0, 0, 0, 0, 0, 0, 0, 0, 0, 0, 0, 0, 0, 0, 0], dtype=int32),\n",
              " 4)"
            ]
          },
          "metadata": {
            "tags": []
          },
          "execution_count": 32
        }
      ]
    },
    {
      "cell_type": "code",
      "metadata": {
        "id": "DEv2AOmBuQ9D"
      },
      "source": [
        "train_dataloader = torch.utils.data.DataLoader(data_train, batch_size=batch_size, num_workers=4)\n",
        "test_dataloader = torch.utils.data.DataLoader(data_test, batch_size=batch_size, num_workers=4)"
      ],
      "execution_count": null,
      "outputs": []
    },
    {
      "cell_type": "code",
      "metadata": {
        "id": "4arap7QcuQ9D"
      },
      "source": [
        "class BERTClassifier(nn.Module):\n",
        "    def __init__(self,\n",
        "                 bert,\n",
        "                 hidden_size = 768,\n",
        "                 num_classes=7,\n",
        "                 dr_rate=None,\n",
        "                 params=None):\n",
        "        super(BERTClassifier, self).__init__()\n",
        "        self.bert = bert\n",
        "        self.dr_rate = dr_rate\n",
        "                 \n",
        "        self.classifier = nn.Linear(hidden_size , num_classes)\n",
        "        if dr_rate:\n",
        "            self.dropout = nn.Dropout(p=dr_rate)\n",
        "    \n",
        "    def gen_attention_mask(self, token_ids, valid_length):\n",
        "        attention_mask = torch.zeros_like(token_ids)\n",
        "        for i, v in enumerate(valid_length):\n",
        "            attention_mask[i][:v] = 1\n",
        "        return attention_mask.float()\n",
        "\n",
        "    def forward(self, token_ids, valid_length, segment_ids):\n",
        "        attention_mask = self.gen_attention_mask(token_ids, valid_length)\n",
        "        \n",
        "        _, pooler = self.bert(input_ids = token_ids, token_type_ids = segment_ids.long(), attention_mask = attention_mask.float().to(token_ids.device))\n",
        "        if self.dr_rate:\n",
        "            out = self.dropout(pooler)\n",
        "        return self.classifier(out)"
      ],
      "execution_count": null,
      "outputs": []
    },
    {
      "cell_type": "code",
      "metadata": {
        "id": "EzMgbqlzuQ9D"
      },
      "source": [
        "model = BERTClassifier(bertmodel, dr_rate=0.5).to(device)"
      ],
      "execution_count": null,
      "outputs": []
    },
    {
      "cell_type": "code",
      "metadata": {
        "id": "tn5sgcoJuQ9D"
      },
      "source": [
        "# Prepare optimizer and schedule (linear warmup and decay)\n",
        "no_decay = ['bias', 'LayerNorm.weight']\n",
        "optimizer_grouped_parameters = [\n",
        "    {'params': [p for n, p in model.named_parameters() if not any(nd in n for nd in no_decay)], 'weight_decay': 0.01},\n",
        "    {'params': [p for n, p in model.named_parameters() if any(nd in n for nd in no_decay)], 'weight_decay': 0.0}\n",
        "]"
      ],
      "execution_count": null,
      "outputs": []
    },
    {
      "cell_type": "code",
      "metadata": {
        "id": "mrisEkIWuQ9D"
      },
      "source": [
        "optimizer = AdamW(optimizer_grouped_parameters, lr=learning_rate)\n",
        "loss_fn = nn.CrossEntropyLoss()"
      ],
      "execution_count": null,
      "outputs": []
    },
    {
      "cell_type": "code",
      "metadata": {
        "id": "BMqvypZluQ9D"
      },
      "source": [
        "t_total = len(train_dataloader) * num_epochs\n",
        "warmup_step = int(t_total * warmup_ratio)"
      ],
      "execution_count": null,
      "outputs": []
    },
    {
      "cell_type": "code",
      "metadata": {
        "id": "aCFr1pELuQ9D"
      },
      "source": [
        "scheduler = get_cosine_schedule_with_warmup(optimizer, num_warmup_steps=warmup_step, num_training_steps=t_total)"
      ],
      "execution_count": null,
      "outputs": []
    },
    {
      "cell_type": "code",
      "metadata": {
        "id": "E9qOA3DouQ9E"
      },
      "source": [
        "def calc_accuracy(X,Y):\n",
        "    max_vals, max_indices = torch.max(X, 1)\n",
        "    train_acc = (max_indices == Y).sum().data.cpu().numpy()/max_indices.size()[0]\n",
        "    return train_acc"
      ],
      "execution_count": null,
      "outputs": []
    },
    {
      "cell_type": "code",
      "metadata": {
        "id": "PVjGN1Fx939U"
      },
      "source": [
        "class EarlyStopping:\n",
        "    \"\"\"주어진 patience 이후로 validation loss가 개선되지 않으면 학습을 조기 중지\"\"\"\n",
        "    def __init__(self, patience=7, verbose=False, delta=0, path='checkpoint.pt'):\n",
        "        \"\"\"\n",
        "        Args:\n",
        "            patience (int): validation loss가 개선된 후 기다리는 기간\n",
        "                            Default: 7\n",
        "            verbose (bool): True일 경우 각 validation loss의 개선 사항 메세지 출력\n",
        "                            Default: False\n",
        "            delta (float): 개선되었다고 인정되는 monitered quantity의 최소 변화\n",
        "                            Default: 0\n",
        "            path (str): checkpoint저장 경로\n",
        "                            Default: 'checkpoint.pt'\n",
        "        \"\"\"\n",
        "        self.patience = patience\n",
        "        self.verbose = verbose\n",
        "        self.counter = 0\n",
        "        self.best_score = None\n",
        "        self.early_stop = False\n",
        "        self.val_loss_min = np.Inf\n",
        "        self.delta = delta\n",
        "        self.path = path\n",
        "\n",
        "    def __call__(self, val_loss, model):\n",
        "\n",
        "        score = -val_loss\n",
        "\n",
        "        if self.best_score is None:\n",
        "            self.best_score = score\n",
        "            self.save_checkpoint(val_loss, model)\n",
        "        elif score < self.best_score + self.delta:\n",
        "            self.counter += 1\n",
        "            print(f'EarlyStopping counter: {self.counter} out of {self.patience}')\n",
        "            if self.counter >= self.patience:\n",
        "                self.early_stop = True\n",
        "        else:\n",
        "            self.best_score = score\n",
        "            self.save_checkpoint(val_loss, model)\n",
        "            self.counter = 0\n",
        "\n",
        "    def save_checkpoint(self, val_loss, model):\n",
        "        '''validation loss가 감소하면 모델을 저장한다.'''\n",
        "        if self.verbose:\n",
        "            print(f'Validation loss decreased ({self.val_loss_min:.6f} --> {val_loss:.6f}).  Saving model ...')\n",
        "        torch.save(model.state_dict(), self.path)\n",
        "        self.val_loss_min = val_loss"
      ],
      "execution_count": null,
      "outputs": []
    },
    {
      "cell_type": "code",
      "metadata": {
        "colab": {
          "base_uri": "https://localhost:8080/"
        },
        "id": "jKPdCjCTBjE3",
        "outputId": "60135543-da7a-4606-ecf5-5142695f4fd6"
      },
      "source": [
        "# to track the training loss as the model trains\n",
        "train_losses = []\n",
        "# to track the validation loss as the model trains\n",
        "valid_losses = []\n",
        "# epoch당 average training loss를 track\n",
        "avg_train_losses = []\n",
        "# epoch당 average validation loss를 track\n",
        "avg_valid_losses = []\n",
        "\n",
        "# epoch당 average train acc를 track\n",
        "train_acc = []\n",
        "# epoch당 average validation acc를 track\n",
        "valid_acc = []\n",
        "# epoch당 average train acc를 track\n",
        "avg_train_acc = []\n",
        "# epoch당 average validation acc를 track\n",
        "avg_valid_acc = []\n",
        "\n",
        "# early_stopping object의 초기화\n",
        "early_stopping = EarlyStopping(patience = patience, verbose = True)\n",
        "\n",
        "for e in range(num_epochs):\n",
        "    train_accs = 0.0\n",
        "    valid_accs = 0.0\n",
        "    \n",
        "    ###################\n",
        "    # train the model #\n",
        "    ###################\n",
        "    print(\"\\t>>> epoch {} training start <<<\".format(e+1))\n",
        "    model.train() # prep model for training\n",
        "    for batch_id, (token_ids, valid_length, segment_ids, label) in enumerate(tqdm(train_dataloader)):\n",
        "        optimizer.zero_grad()\n",
        "        token_ids = token_ids.long().to(device)\n",
        "        segment_ids = segment_ids.long().to(device)\n",
        "        valid_length = valid_length\n",
        "        label = label.long().to(device)\n",
        "        out = model(token_ids, valid_length, segment_ids)\n",
        "        loss = loss_fn(out, label)\n",
        "        loss.backward()\n",
        "        torch.nn.utils.clip_grad_norm_(model.parameters(), max_grad_norm)\n",
        "        optimizer.step()\n",
        "        scheduler.step()  # Update learning rate schedule\n",
        "        train_accs += calc_accuracy(out, label)\n",
        "        train_acc.append(calc_accuracy(out, label))\n",
        "        train_losses.append(loss.item())\n",
        "        if batch_id % log_interval == 0:\n",
        "            print(\"epoch {} batch id {} loss {} acc {}\".format(e+1, batch_id+1, loss.data.cpu().numpy(), train_accs / (batch_id+1)))\n",
        "    print(\"epoch {} train loss {} acc {}\".format(e+1, loss.data.cpu().numpy(), train_accs / (batch_id+1)))\n",
        "\n",
        "    ######################    \n",
        "    # validate the model #\n",
        "    ######################\n",
        "    model.eval() # prep model for evaluation\n",
        "    for batch_id, (token_ids, valid_length, segment_ids, label) in enumerate(tqdm(test_dataloader)):\n",
        "        token_ids = token_ids.long().to(device)\n",
        "        segment_ids = segment_ids.long().to(device)\n",
        "        valid_length= valid_length\n",
        "        label = label.long().to(device)\n",
        "        out = model(token_ids, valid_length, segment_ids)\n",
        "        loss = loss_fn(out, label)\n",
        "        valid_accs += calc_accuracy(out, label)\n",
        "        valid_acc.append(calc_accuracy(out, label))\n",
        "        valid_losses.append(loss.item())\n",
        "    print(\"epoch {} validation loss {} acc {}\".format(e+1, loss.data.cpu().numpy(), valid_accs / (batch_id+1)))\n",
        "    \n",
        "    # print 학습/검증 statistics\n",
        "    # epoch당 평균 loss 계산\n",
        "    train_loss = np.average(train_losses)\n",
        "    valid_loss = np.average(valid_losses)\n",
        "    avg_train_losses.append(train_loss)\n",
        "    avg_valid_losses.append(valid_loss)\n",
        "\n",
        "    # print 학습/검증 statistics\n",
        "    # epoch당 평균 loss 계산\n",
        "    train_accuracy = np.average(train_acc)\n",
        "    valid_accuracy = np.average(valid_acc)\n",
        "    avg_train_acc.append(train_accuracy)\n",
        "    avg_valid_acc.append(valid_accuracy)\n",
        "\n",
        "    # clear lists to track next epoch\n",
        "    train_losses = []\n",
        "    valid_losses = []\n",
        "    train_acc = []\n",
        "    valid_acc = []\n",
        "            \n",
        "    # early_stopping needs the validation loss to check if it has decresed, \n",
        "    # and if it has, it will make a checkpoint of the current model\n",
        "    early_stopping(valid_loss, model)\n",
        "            \n",
        "    if early_stopping.early_stop:\n",
        "        print(\"---------Quit training due to Early stopping---------\")\n",
        "        break\n",
        "    print(\"\\n\\n\")"
      ],
      "execution_count": null,
      "outputs": [
        {
          "output_type": "stream",
          "text": [
            "\r  0%|          | 0/742 [00:00<?, ?it/s]"
          ],
          "name": "stderr"
        },
        {
          "output_type": "stream",
          "text": [
            "\t>>> epoch 1 training start <<<\n"
          ],
          "name": "stdout"
        },
        {
          "output_type": "stream",
          "text": [
            "  0%|          | 2/742 [00:00<03:55,  3.14it/s]"
          ],
          "name": "stderr"
        },
        {
          "output_type": "stream",
          "text": [
            "epoch 1 batch id 1 loss 1.9448251724243164 acc 0.15625\n"
          ],
          "name": "stdout"
        },
        {
          "output_type": "stream",
          "text": [
            " 27%|██▋       | 202/742 [00:30<01:20,  6.72it/s]"
          ],
          "name": "stderr"
        },
        {
          "output_type": "stream",
          "text": [
            "epoch 1 batch id 201 loss 1.8236241340637207 acc 0.16868781094527363\n"
          ],
          "name": "stdout"
        },
        {
          "output_type": "stream",
          "text": [
            " 54%|█████▍    | 402/742 [00:59<00:50,  6.77it/s]"
          ],
          "name": "stderr"
        },
        {
          "output_type": "stream",
          "text": [
            "epoch 1 batch id 401 loss 1.3695435523986816 acc 0.2649625935162095\n"
          ],
          "name": "stdout"
        },
        {
          "output_type": "stream",
          "text": [
            " 81%|████████  | 602/742 [01:29<00:20,  6.72it/s]"
          ],
          "name": "stderr"
        },
        {
          "output_type": "stream",
          "text": [
            "epoch 1 batch id 601 loss 0.9776369333267212 acc 0.38924708818635606\n"
          ],
          "name": "stdout"
        },
        {
          "output_type": "stream",
          "text": [
            "100%|██████████| 742/742 [01:50<00:00,  6.74it/s]\n",
            "  0%|          | 0/83 [00:00<?, ?it/s]"
          ],
          "name": "stderr"
        },
        {
          "output_type": "stream",
          "text": [
            "epoch 1 train loss 0.520962655544281 acc 0.45599730458221027\n"
          ],
          "name": "stdout"
        },
        {
          "output_type": "stream",
          "text": [
            "100%|██████████| 83/83 [00:03<00:00, 21.36it/s]\n"
          ],
          "name": "stderr"
        },
        {
          "output_type": "stream",
          "text": [
            "epoch 1 validation loss 0.5656033754348755 acc 0.7978452270620945\n",
            "Validation loss decreased (inf --> 0.661022).  Saving model ...\n"
          ],
          "name": "stdout"
        },
        {
          "output_type": "stream",
          "text": [
            "\r  0%|          | 0/742 [00:00<?, ?it/s]"
          ],
          "name": "stderr"
        },
        {
          "output_type": "stream",
          "text": [
            "\n",
            "\n",
            "\n",
            "\t>>> epoch 2 training start <<<\n"
          ],
          "name": "stdout"
        },
        {
          "output_type": "stream",
          "text": [
            "  0%|          | 2/742 [00:00<02:48,  4.39it/s]"
          ],
          "name": "stderr"
        },
        {
          "output_type": "stream",
          "text": [
            "epoch 2 batch id 1 loss 0.5867730975151062 acc 0.84375\n"
          ],
          "name": "stdout"
        },
        {
          "output_type": "stream",
          "text": [
            " 27%|██▋       | 202/742 [00:29<01:19,  6.77it/s]"
          ],
          "name": "stderr"
        },
        {
          "output_type": "stream",
          "text": [
            "epoch 2 batch id 201 loss 0.5490589141845703 acc 0.8006840796019901\n"
          ],
          "name": "stdout"
        },
        {
          "output_type": "stream",
          "text": [
            " 54%|█████▍    | 402/742 [00:59<00:50,  6.76it/s]"
          ],
          "name": "stderr"
        },
        {
          "output_type": "stream",
          "text": [
            "epoch 2 batch id 401 loss 0.3820697069168091 acc 0.8170199501246883\n"
          ],
          "name": "stdout"
        },
        {
          "output_type": "stream",
          "text": [
            " 81%|████████  | 602/742 [01:29<00:20,  6.75it/s]"
          ],
          "name": "stderr"
        },
        {
          "output_type": "stream",
          "text": [
            "epoch 2 batch id 601 loss 0.6198052167892456 acc 0.8283069883527454\n"
          ],
          "name": "stdout"
        },
        {
          "output_type": "stream",
          "text": [
            "100%|██████████| 742/742 [01:49<00:00,  6.75it/s]\n",
            "  0%|          | 0/83 [00:00<?, ?it/s]"
          ],
          "name": "stderr"
        },
        {
          "output_type": "stream",
          "text": [
            "epoch 2 train loss 0.19779999554157257 acc 0.8327324797843666\n"
          ],
          "name": "stdout"
        },
        {
          "output_type": "stream",
          "text": [
            "100%|██████████| 83/83 [00:03<00:00, 21.20it/s]\n"
          ],
          "name": "stderr"
        },
        {
          "output_type": "stream",
          "text": [
            "epoch 2 validation loss 0.09545482695102692 acc 0.8618222891566265\n",
            "Validation loss decreased (0.661022 --> 0.437540).  Saving model ...\n"
          ],
          "name": "stdout"
        },
        {
          "output_type": "stream",
          "text": [
            "\r  0%|          | 0/742 [00:00<?, ?it/s]"
          ],
          "name": "stderr"
        },
        {
          "output_type": "stream",
          "text": [
            "\n",
            "\n",
            "\n",
            "\t>>> epoch 3 training start <<<\n"
          ],
          "name": "stdout"
        },
        {
          "output_type": "stream",
          "text": [
            "  0%|          | 2/742 [00:00<02:56,  4.19it/s]"
          ],
          "name": "stderr"
        },
        {
          "output_type": "stream",
          "text": [
            "epoch 3 batch id 1 loss 0.23499391973018646 acc 0.9375\n"
          ],
          "name": "stdout"
        },
        {
          "output_type": "stream",
          "text": [
            " 27%|██▋       | 202/742 [00:30<01:20,  6.74it/s]"
          ],
          "name": "stderr"
        },
        {
          "output_type": "stream",
          "text": [
            "epoch 3 batch id 201 loss 0.47438013553619385 acc 0.877021144278607\n"
          ],
          "name": "stdout"
        },
        {
          "output_type": "stream",
          "text": [
            " 54%|█████▍    | 402/742 [00:59<00:50,  6.76it/s]"
          ],
          "name": "stderr"
        },
        {
          "output_type": "stream",
          "text": [
            "epoch 3 batch id 401 loss 0.2007647156715393 acc 0.8830268079800498\n"
          ],
          "name": "stdout"
        },
        {
          "output_type": "stream",
          "text": [
            " 81%|████████  | 602/742 [01:29<00:20,  6.74it/s]"
          ],
          "name": "stderr"
        },
        {
          "output_type": "stream",
          "text": [
            "epoch 3 batch id 601 loss 0.36772528290748596 acc 0.8875831946755408\n"
          ],
          "name": "stdout"
        },
        {
          "output_type": "stream",
          "text": [
            "100%|██████████| 742/742 [01:50<00:00,  6.74it/s]\n",
            "  0%|          | 0/83 [00:00<?, ?it/s]"
          ],
          "name": "stderr"
        },
        {
          "output_type": "stream",
          "text": [
            "epoch 3 train loss 0.17997264862060547 acc 0.8903470350404313\n"
          ],
          "name": "stdout"
        },
        {
          "output_type": "stream",
          "text": [
            "100%|██████████| 83/83 [00:03<00:00, 21.29it/s]\n"
          ],
          "name": "stderr"
        },
        {
          "output_type": "stream",
          "text": [
            "epoch 3 validation loss 0.07498414814472198 acc 0.8862951807228916\n",
            "Validation loss decreased (0.437540 --> 0.372198).  Saving model ...\n"
          ],
          "name": "stdout"
        },
        {
          "output_type": "stream",
          "text": [
            "\r  0%|          | 0/742 [00:00<?, ?it/s]"
          ],
          "name": "stderr"
        },
        {
          "output_type": "stream",
          "text": [
            "\n",
            "\n",
            "\n",
            "\t>>> epoch 4 training start <<<\n"
          ],
          "name": "stdout"
        },
        {
          "output_type": "stream",
          "text": [
            "  0%|          | 2/742 [00:00<02:51,  4.31it/s]"
          ],
          "name": "stderr"
        },
        {
          "output_type": "stream",
          "text": [
            "epoch 4 batch id 1 loss 0.06026693060994148 acc 1.0\n"
          ],
          "name": "stdout"
        },
        {
          "output_type": "stream",
          "text": [
            " 27%|██▋       | 202/742 [00:29<01:19,  6.77it/s]"
          ],
          "name": "stderr"
        },
        {
          "output_type": "stream",
          "text": [
            "epoch 4 batch id 201 loss 0.2938831150531769 acc 0.9148009950248757\n"
          ],
          "name": "stdout"
        },
        {
          "output_type": "stream",
          "text": [
            " 54%|█████▍    | 402/742 [00:59<00:50,  6.75it/s]"
          ],
          "name": "stderr"
        },
        {
          "output_type": "stream",
          "text": [
            "epoch 4 batch id 401 loss 0.10850877314805984 acc 0.9191864089775561\n"
          ],
          "name": "stdout"
        },
        {
          "output_type": "stream",
          "text": [
            " 81%|████████  | 602/742 [01:29<00:20,  6.77it/s]"
          ],
          "name": "stderr"
        },
        {
          "output_type": "stream",
          "text": [
            "epoch 4 batch id 601 loss 0.2048950344324112 acc 0.9216410149750416\n"
          ],
          "name": "stdout"
        },
        {
          "output_type": "stream",
          "text": [
            "100%|██████████| 742/742 [01:49<00:00,  6.75it/s]\n",
            "  0%|          | 0/83 [00:00<?, ?it/s]"
          ],
          "name": "stderr"
        },
        {
          "output_type": "stream",
          "text": [
            "epoch 4 train loss 0.13572381436824799 acc 0.9225657008086254\n"
          ],
          "name": "stdout"
        },
        {
          "output_type": "stream",
          "text": [
            "100%|██████████| 83/83 [00:03<00:00, 21.27it/s]\n",
            "  0%|          | 0/742 [00:00<?, ?it/s]"
          ],
          "name": "stderr"
        },
        {
          "output_type": "stream",
          "text": [
            "epoch 4 validation loss 0.030925389379262924 acc 0.8942018072289156\n",
            "EarlyStopping counter: 1 out of 3\n",
            "\n",
            "\n",
            "\n",
            "\t>>> epoch 5 training start <<<\n"
          ],
          "name": "stdout"
        },
        {
          "output_type": "stream",
          "text": [
            "  0%|          | 2/742 [00:00<02:48,  4.39it/s]"
          ],
          "name": "stderr"
        },
        {
          "output_type": "stream",
          "text": [
            "epoch 5 batch id 1 loss 0.1341562122106552 acc 0.96875\n"
          ],
          "name": "stdout"
        },
        {
          "output_type": "stream",
          "text": [
            " 27%|██▋       | 202/742 [00:30<01:19,  6.76it/s]"
          ],
          "name": "stderr"
        },
        {
          "output_type": "stream",
          "text": [
            "epoch 5 batch id 201 loss 0.259511798620224 acc 0.9305037313432836\n"
          ],
          "name": "stdout"
        },
        {
          "output_type": "stream",
          "text": [
            " 54%|█████▍    | 402/742 [00:59<00:50,  6.73it/s]"
          ],
          "name": "stderr"
        },
        {
          "output_type": "stream",
          "text": [
            "epoch 5 batch id 401 loss 0.060015253722667694 acc 0.9358634663341646\n"
          ],
          "name": "stdout"
        },
        {
          "output_type": "stream",
          "text": [
            " 81%|████████  | 602/742 [01:29<00:20,  6.76it/s]"
          ],
          "name": "stderr"
        },
        {
          "output_type": "stream",
          "text": [
            "epoch 5 batch id 601 loss 0.29135435819625854 acc 0.9366160565723793\n"
          ],
          "name": "stdout"
        },
        {
          "output_type": "stream",
          "text": [
            "100%|██████████| 742/742 [01:49<00:00,  6.76it/s]\n",
            "  0%|          | 0/83 [00:00<?, ?it/s]"
          ],
          "name": "stderr"
        },
        {
          "output_type": "stream",
          "text": [
            "epoch 5 train loss 0.17190903425216675 acc 0.9384012803234502\n"
          ],
          "name": "stdout"
        },
        {
          "output_type": "stream",
          "text": [
            "100%|██████████| 83/83 [00:03<00:00, 21.33it/s]\n",
            "  0%|          | 0/742 [00:00<?, ?it/s]"
          ],
          "name": "stderr"
        },
        {
          "output_type": "stream",
          "text": [
            "epoch 5 validation loss 0.06771479547023773 acc 0.8906394810009267\n",
            "EarlyStopping counter: 2 out of 3\n",
            "\n",
            "\n",
            "\n",
            "\t>>> epoch 6 training start <<<\n"
          ],
          "name": "stdout"
        },
        {
          "output_type": "stream",
          "text": [
            "  0%|          | 2/742 [00:00<02:48,  4.39it/s]"
          ],
          "name": "stderr"
        },
        {
          "output_type": "stream",
          "text": [
            "epoch 6 batch id 1 loss 0.008828114718198776 acc 1.0\n"
          ],
          "name": "stdout"
        },
        {
          "output_type": "stream",
          "text": [
            " 27%|██▋       | 202/742 [00:30<01:20,  6.74it/s]"
          ],
          "name": "stderr"
        },
        {
          "output_type": "stream",
          "text": [
            "epoch 6 batch id 201 loss 0.2913617789745331 acc 0.9496268656716418\n"
          ],
          "name": "stdout"
        },
        {
          "output_type": "stream",
          "text": [
            " 54%|█████▍    | 402/742 [00:59<00:50,  6.73it/s]"
          ],
          "name": "stderr"
        },
        {
          "output_type": "stream",
          "text": [
            "epoch 6 batch id 401 loss 0.0700962021946907 acc 0.9519170822942643\n"
          ],
          "name": "stdout"
        },
        {
          "output_type": "stream",
          "text": [
            " 81%|████████  | 602/742 [01:29<00:20,  6.77it/s]"
          ],
          "name": "stderr"
        },
        {
          "output_type": "stream",
          "text": [
            "epoch 6 batch id 601 loss 0.4016283452510834 acc 0.9530990016638935\n"
          ],
          "name": "stdout"
        },
        {
          "output_type": "stream",
          "text": [
            "100%|██████████| 742/742 [01:49<00:00,  6.75it/s]\n",
            "  0%|          | 0/83 [00:00<?, ?it/s]"
          ],
          "name": "stderr"
        },
        {
          "output_type": "stream",
          "text": [
            "epoch 6 train loss 0.06827498972415924 acc 0.9529733827493262\n"
          ],
          "name": "stdout"
        },
        {
          "output_type": "stream",
          "text": [
            "100%|██████████| 83/83 [00:03<00:00, 21.22it/s]"
          ],
          "name": "stderr"
        },
        {
          "output_type": "stream",
          "text": [
            "epoch 6 validation loss 0.016231806948781013 acc 0.8998493975903614\n",
            "EarlyStopping counter: 3 out of 3\n",
            "---------Quit training due to Early stopping---------\n"
          ],
          "name": "stdout"
        },
        {
          "output_type": "stream",
          "text": [
            "\n"
          ],
          "name": "stderr"
        }
      ]
    },
    {
      "cell_type": "code",
      "metadata": {
        "colab": {
          "base_uri": "https://localhost:8080/",
          "height": 585
        },
        "id": "7EOF0Qrt7E3W",
        "outputId": "45cb2505-e7fc-4699-8f6e-8088073de9fc"
      },
      "source": [
        "# 훈련이 진행되는 과정에 따라 loss를 시각화\n",
        "fig = plt.figure(figsize=(10,8))\n",
        "plt.plot(range(1,len(avg_train_losses)+1),avg_train_losses, label='Training Loss')\n",
        "plt.plot(range(1,len(avg_valid_losses)+1),avg_valid_losses,label='Validation Loss')\n",
        "plt.plot(range(1,len(avg_train_acc)+1),avg_train_acc,label='Training Accuracy')\n",
        "plt.plot(range(1,len(avg_valid_acc)+1),avg_valid_acc,label='Validation Accuracy')\n",
        "\n",
        "# validation loss의 최저값 지점을 찾기\n",
        "minposs = avg_valid_losses.index(min(avg_valid_losses))+1\n",
        "plt.axvline(minposs, linestyle='--', color='r',label='Early Stopping Checkpoint')\n",
        "\n",
        "plt.xlabel('epochs')\n",
        "plt.ylabel('loss')\n",
        "plt.ylim(0, 1.0) # 일정한 scale\n",
        "plt.xlim(0, len(avg_train_losses)+1) # 일정한 scale\n",
        "plt.grid(True)\n",
        "plt.legend()\n",
        "plt.tight_layout()\n",
        "plt.show()"
      ],
      "execution_count": null,
      "outputs": [
        {
          "output_type": "display_data",
          "data": {
            "image/png": "[encoded data removed]",
            "text/plain": [
              "<Figure size 720x576 with 1 Axes>"
            ]
          },
          "metadata": {
            "tags": [],
            "needs_background": "light"
          }
        }
      ]
    },
    {
      "cell_type": "code",
      "metadata": {
        "id": "FeVe3jhBrLiR"
      },
      "source": [
        "with open(\"/content/drive/MyDrive/데청캠_teamproject/정상희/빨간모자.txt\", \"r\") as f:\n",
        "    data = f.read()"
      ],
      "execution_count": null,
      "outputs": []
    },
    {
      "cell_type": "code",
      "metadata": {
        "colab": {
          "base_uri": "https://localhost:8080/",
          "height": 178
        },
        "id": "o24RnqhGrLak",
        "outputId": "1cf12555-11db-49c2-ce21-2b620048b570"
      },
      "source": [
        "data"
      ],
      "execution_count": null,
      "outputs": [
        {
          "output_type": "execute_result",
          "data": {
            "application/vnd.google.colaboratory.intrinsic+json": {
              "type": "string"
            },
            "text/plain": [
              "'옛날 옛날에 모두의 사랑을 받는 작고 귀여운 소녀가 있었습니다. 하지만 그 소녀를 가장 사랑하는 것은 그녀의 할머니였습니다. 할머니는 소녀에게 무엇을 줘야 할지 몰랐습니다. 한번은 할머니가 소녀에게 붉은 벨벳으로 만들어진 모자를 선물했습니다. 소녀에게 그 모자가 잘 어울렸고, 소녀가 그 모자가 아닌 다른 것은 쓰지 않으려고 했습니다. 그래서 그 소녀는 \\'빨간 모자\\'라고 불렸습니다. 어느 날, 소녀의 엄마가 그녀에게 말했습니다. \"빨간 모자, 여기로 와보렴. 여기 케이크 한 조각과 와인 한 병을 할머니에게 가져다 주렴. 할머니가 편찮으시니까 네가 가면 기뻐하실 거야. 더워지기 전에 출발하렴. 그리고 할머니 댁에 갈 때, 조심해서 가고 길에서 벗어나지 마렴. 그렇지 않으면 네가 넘어져서 병을 깨뜨릴 거야. 그러면 할머니는 아무것도 받지 못하신단다. 그리고 할머니 방에 가면, 먼저 인사하고 방 안 구석구석을 살펴보는 것을 잊지 말아라!\"\\n\\n\"엄마 말 잘 들을게요.\" 빨간 머리가 엄마에게 말했습니다. 하지만 할머니는 마을에서 30분 떨어진 거리에 있는 숲에 사셨습니다. 빨간 모자가 숲에 같을 때, 그녀는 늑대를 만났습니다. 하지만 빨간 모자는 늑대가 얼마나 나쁜 동물인지 몰랐고 늑대를 무서워하지 않았습니다. \"안녕, 빨간 모자!\" 늑대가 말했습니다. \"고마워, 늑대!\" – \" 빨간 모자야, 이렇게 일찍 어딜 가니?\" – \"할머니께\" – \"무엇을 가져가니?\" – \"케이크와 와인. 어제 우리가 편찮으신 할머니께 좋은 것을 드리고 기운 내게 해드리려고 케이크를 만들었어.\" – \"빨간 모자야, 너희 할머니는 어디 사시니?\" – \"여기서도 15분 더 숲 속으로 가야 해. 3개의 오크 나무 아래에 할머니 집이 있어. 그 아래에는 개암나무가 있어. 너도 거기를 알거야.\" 빨간 모자가 말했습니다. 늑대는 혼자 생각했습니다. \\'저 어리고 상냥한 한입거리가 노인보다 훨씬 맛있을거야. 둘 다 잡아먹으려면 빨리 꾀를 생각해내야 해.\\' 늑대가 빨간 모자 옆으로 가서 말했습니다. \"빨간 모자야, 여기 주변에 있는 예쁜 꽃들 좀 봐. 왜 주변을 둘러보지 않니? 내 생각엔, 너가 새들이 얼마나 아름답게 노래하고 있는지 듣지 않는 것 같아. 너는 학교 가는 것처럼 바쁘게 가는구나. 여기 숲을 둘러보는 건 정말 재미있어.\"\\n\\n빨간 모자가 눈을 뜨고 햇빛이 나무를 향해 춤추는 모습과 예쁜 꽃들을 둘러봤을 때, 그녀는 생각했습니다. \\'내가 할머니께 꽃다발을 가져다 드리면, 할머니가 기뻐하실거야. 어쨌든 지금은 아직 이르니까 난 제시간에 할머니 댁에 도착할거야.\\' 그래서 그녀는 길에서 벗어나 꽃을 찾아 다녔습니다. 그녀가 꽃 하나를 꺾을 때마다, 그녀는 조금만 더 가면 더 예쁜 꽃이 있을 거라고 생각했습니다. 그래서 계속해서 숲 속 깊이 들어갔습니다. 하지만 늑대는 바로 할머니 댁을 향해 갔고 문을 두드렸습니다. \"밖에 누구세요?\" – \"빨간 모자에요. 제가 케이크와 와인을 들고 왔어요. 문 열어 주세요!\" – \"그냥 손잡이를 누르면 된단다!\" 할머니가 말했습니다. \"나는 너무 아파서 일어날 수가 없단다.\" 늑대가 손잡이를 누르고 할머니 댁으로 들어갔습니다. 말도 없이 할머니 침대로 가서 할머니를 잡아먹었습니다. 그리고 늑대는 할머니의 옷을 입고, 두건을 쓰고 침대에 누워 커튼을 쳤습니다.\\n\\n하지만 빨간 모자는 계속 꽃을 찾아 다녔습니다. 그녀가 더 가져갈 수 없을 만큼 꽃을 모은 후에야, 할머니가 생각나서 할머니 댁으로 향하기 시작했습니다. 빨간 모자가 할머니 댁에 도착했을 때, 문이 열려 있어서 놀랐습니다. 할머니 방으로 들어갔을 때, 모든 것이 너무 이상해서 빨간 모자는 생각했습니다. \\'맙소사. 내가 왜 이렇게 무서워하지? 나는 할머니 댁에 있는 것을 좋아하잖아!\\' 빨간 모자가 말했습니다. \"안녕하세요.\" 하지만 대답은 듣지 못했습니다. 빨간 모자가 할머니 침대로 다가가서 커튼을 젖혔습니다. 거기에 할머니가 두건을 깊게 눌러쓰고 누워있었고 매우 이상해 보였습니다. \"아, 할머니, 귀가 정말 크시네요!\" – \"내가 너의 목소리를 더 잘 듣기 위해서란다!\" – \"아, 할머니, 눈이 정말 크시네요!\" – \"내가 너를 더 잘 보기 위해서란다!\" – \"아, 할머니, 손이 정말 크시네요!\" – \"내가 너를 더 잘 잡기 위해서란다!\" – \"하지만, 할머니, 무서울 만큼 큰 입을 가지셨네요!\" – \"내가 너를 더 잘 잡아먹기 위해서란다!\" 늑대가 그것을 말하자마자 침대에서 뛰어나와 그 불쌍한 빨간 모자를 잡아먹었습니다.\\n\\n늑대가 다 먹어 치웠을 때, 그는 다시 침대에 누워서 잠에 들었고 시끄럽게 코를 골기 시작했습니다. 한 사냥꾼이 할머니 댁을 지나가면서 생각했습니다. \\'할머니가 왜 이렇게 시끄럽게 코를 고시는 거지? 가서 할머니에게 문제가 있나 확인해봐야겠다.\\' 그래서 그는 할머니 방 안으로 들어갔습니다. 그가 침대로 왔을 때, 그는 늑대가 거기에 누워있는 것을 봤습니다. \"너를 여기서 보는구나\" 사냥꾼이 말했습니다. \"내가 너를 오랫동안 찾아다녔지.\" 이제 그는 늑대에게 총을 쏘려고 했습니다. 그런데 그때 그에게 무언가 떠올랐습니다. \\'늑대가 할머니를 잡아먹었지만, 할머니를 구할 수 있을지도 몰라. 총을 쏘면 안돼.\" 그 대신에 사냥꾼은 가위를 가져와서 자고 있는 늑대의 배를 가르기 시작했습니다. 잠시 후에 그는 빨간 모자를 발견했습니다. 그리고 늑대 배를 조금 더 자르자 빨간 모자가 나와서 말했습니다. \"저는 정말 무서웠어요. 늑대 배 안은 정말 어두웠어요!\" 그리고 할머니도 살아서 나왔고 가까스로 숨을 쉬었습니다.\\n\\n빨간 모자가 무거운 돌들을 가져와서 늑대의 배 안을 그 돌로 채웠습니다. 그래서 늑대가 깨어났을 때, 그가 도망가려고 해도 돌이 너무 무거워서 넘어져 죽을 것입니다. 그 세 명은 모두 행복했습니다. 사냥꾼은 늑대의 가죽을 가져갔습니다. 할머니는 빨간 모자가 가져 온 먹고 와인을 마시고 병에서 회복했습니다. 빨간 모자는 생각했습니다. \\'내가 살아있는 동안 엄마가 허락하지 않으시면 다시는 혼자 길에서 벗어나지 않을 거야.\\'\\n\\n\\n이 이야기도 말해야 합니다. 빨간 모자가 할머니께 다시 케이크를 드리러 갈 때, 또 다른 늑대가 와서 빨간 모자에게 말을 시키고 빨간 모자가 길에서 벗어나게 하려고 했습니다. 하지만 빨간 모자는 늑대를 경계하며 바로 할머니 댁으로 갔습니다. 빨간 모자가 할머니께 자기에게 인사를 했지만 자기를 째려보는 늑대를 만났다고 말했습니다. \"내가 사람들이 있는 거리에 있지 않았다면, 늑대가 나를 잡아먹었을 거에요.\" – \"이리 와라\" 할머니가 말씀하셨습니다. \"우리 늑대가 들어오지 못하게 문을 닫자.\" 곧 늑대가 와서 문을 두드리며 말했습니다. \"할머니, 문 열어주세요. 저에요, 빨간 모자. 제가 할머니께 케이크를 드리러 왔어요.\" 하지만 할머니는 아무 말도 하지 않고 문을 열어주지 않았습니다. 그랬더니 그 나쁜 늑대가 계속 할머니 집 주위를 걸어 다니더니 마침내 지붕 위로 뛰어 올랐습니다. 늑대는 빨간 모자가 저녁에 집에 갈 때까지 기다려 빨간 모자를 따라가서 어둠 속에서 몰래 잡아먹으려고 했습니다. 하지만 할머니는 늑대가 무엇을 하려고 하는지 알았습니다. 집 앞에 큰 양동이가 있었습니다. 할머니는 빨간 모자에게 말했습니다. \"빨간 모자야, 저기서 양동이를 가져와라. 내가 어제 거기에 소시지를 구웠다. 그 양동이에 물을 부어라!\" 빨간 모자는 양동이가 완전히 찰 때까지 물을 채웠습니다. 그래서 소시지 냄새가 늑대의 코까지 올라갔습니다. 늑대는 냄새를 맡고 아래를 내려봤습니다. 결국 늑대가 너무 목을 아래로 내린 나머지, 스스로 지탱할 수 없어서 아래로 떨어졌습니다. 늑대는 굴뚝으로 미끄러져 내려와 양동이에 빠져 죽었습니다. 그리고 빨간 모자는 행복하고 안전하게 집에 돌아왔습니다.'"
            ]
          },
          "metadata": {
            "tags": []
          },
          "execution_count": 46
        }
      ]
    },
    {
      "cell_type": "code",
      "metadata": {
        "colab": {
          "base_uri": "https://localhost:8080/",
          "height": 178
        },
        "id": "2L108og8rLT2",
        "outputId": "75e84076-6648-4a66-8ee1-37617399cb83"
      },
      "source": [
        "data = cleaning(data)\n",
        "data"
      ],
      "execution_count": null,
      "outputs": [
        {
          "output_type": "execute_result",
          "data": {
            "application/vnd.google.colaboratory.intrinsic+json": {
              "type": "string"
            },
            "text/plain": [
              "'옛날 옛날에 모두의 사랑을 받는 작고 귀여운 소녀가 있었습니다. 하지만 그 소녀를 가장 사랑하는 것은 그녀의 할머니였습니다. 할머니는 소녀에게 무엇을 줘야 할지 몰랐습니다. 한번은 할머니가 소녀에게 붉은 벨벳으로 만들어진 모자를 선물했습니다. 소녀에게 그 모자가 잘 어울렸고, 소녀가 그 모자가 아닌 다른 것은 쓰지 않으려고 했습니다. 그래서 그 소녀는 빨간 모자라고 불렸습니다. 어느 날, 소녀의 엄마가 그녀에게 말했습니다. 빨간 모자, 여기로 와보렴. 여기 케이크 한 조각과 와인 한 병을 할머니에게 가져다 주렴. 할머니가 편찮으시니까 네가 가면 기뻐하실 거야. 더워지기 전에 출발하렴. 그리고 할머니 댁에 갈 때, 조심해서 가고 길에서 벗어나지 마렴. 그렇지 않으면 네가 넘어져서 병을 깨뜨릴 거야. 그러면 할머니는 아무것도 받지 못하신단다. 그리고 할머니 방에 가면, 먼저 인사하고 방 안 구석구석을 살펴보는 것을 잊지 말아라!엄마 말 잘 들을게요. 빨간 머리가 엄마에게 말했습니다. 하지만 할머니는 마을에서 30분 떨어진 거리에 있는 숲에 사셨습니다. 빨간 모자가 숲에 같을 때, 그녀는 늑대를 만났습니다. 하지만 빨간 모자는 늑대가 얼마나 나쁜 동물인지 몰랐고 늑대를 무서워하지 않았습니다. 안녕, 빨간 모자! 늑대가 말했습니다. 고마워, 늑대! 빨간 모자야, 이렇게 일찍 어딜 가니? 할머니께 무엇을 가져가니? 케이크와 와인. 어제 우리가 편찮으신 할머니께 좋은 것을 드리고 기운 내게 해드리려고 케이크를 만들었어. 빨간 모자야, 너희 할머니는 어디 사시니? 여기서도 15분 더 숲 속으로 가야 해. 3개의 오크 나무 아래에 할머니 집이 있어. 그 아래에는 개암나무가 있어. 너도 거기를 알거야. 빨간 모자가 말했습니다. 늑대는 혼자 생각했습니다. 저 어리고 상냥한 한입거리가 노인보다 훨씬 맛있을거야. 둘 다 잡아먹으려면 빨리 꾀를 생각해내야 해. 늑대가 빨간 모자 옆으로 가서 말했습니다. 빨간 모자야, 여기 주변에 있는 예쁜 꽃들 좀 봐. 왜 주변을 둘러보지 않니? 내 생각엔, 너가 새들이 얼마나 아름답게 노래하고 있는지 듣지 않는 것 같아. 너는 학교 가는 것처럼 바쁘게 가는구나. 여기 숲을 둘러보는 건 정말 재미있어.빨간 모자가 눈을 뜨고 햇빛이 나무를 향해 춤추는 모습과 예쁜 꽃들을 둘러봤을 때, 그녀는 생각했습니다. 내가 할머니께 꽃다발을 가져다 드리면, 할머니가 기뻐하실거야. 어쨌든 지금은 아직 이르니까 난 제시간에 할머니 댁에 도착할거야. 그래서 그녀는 길에서 벗어나 꽃을 찾아 다녔습니다. 그녀가 꽃 하나를 꺾을 때마다, 그녀는 조금만 더 가면 더 예쁜 꽃이 있을 거라고 생각했습니다. 그래서 계속해서 숲 속 깊이 들어갔습니다. 하지만 늑대는 바로 할머니 댁을 향해 갔고 문을 두드렸습니다. 밖에 누구세요? 빨간 모자에요. 제가 케이크와 와인을 들고 왔어요. 문 열어 주세요! 그냥 손잡이를 누르면 된단다! 할머니가 말했습니다. 나는 너무 아파서 일어날 수가 없단다. 늑대가 손잡이를 누르고 할머니 댁으로 들어갔습니다. 말도 없이 할머니 침대로 가서 할머니를 잡아먹었습니다. 그리고 늑대는 할머니의 옷을 입고, 두건을 쓰고 침대에 누워 커튼을 쳤습니다.하지만 빨간 모자는 계속 꽃을 찾아 다녔습니다. 그녀가 더 가져갈 수 없을 만큼 꽃을 모은 후에야, 할머니가 생각나서 할머니 댁으로 향하기 시작했습니다. 빨간 모자가 할머니 댁에 도착했을 때, 문이 열려 있어서 놀랐습니다. 할머니 방으로 들어갔을 때, 모든 것이 너무 이상해서 빨간 모자는 생각했습니다. 맙소사. 내가 왜 이렇게 무서워하지? 나는 할머니 댁에 있는 것을 좋아하잖아! 빨간 모자가 말했습니다. 안녕하세요. 하지만 대답은 듣지 못했습니다. 빨간 모자가 할머니 침대로 다가가서 커튼을 젖혔습니다. 거기에 할머니가 두건을 깊게 눌러쓰고 누워있었고 매우 이상해 보였습니다. 아, 할머니, 귀가 정말 크시네요! 내가 너의 목소리를 더 잘 듣기 위해서란다! 아, 할머니, 눈이 정말 크시네요! 내가 너를 더 잘 보기 위해서란다! 아, 할머니, 손이 정말 크시네요! 내가 너를 더 잘 잡기 위해서란다! 하지만, 할머니, 무서울 만큼 큰 입을 가지셨네요! 내가 너를 더 잘 잡아먹기 위해서란다! 늑대가 그것을 말하자마자 침대에서 뛰어나와 그 불쌍한 빨간 모자를 잡아먹었습니다.늑대가 다 먹어 치웠을 때, 그는 다시 침대에 누워서 잠에 들었고 시끄럽게 코를 골기 시작했습니다. 한 사냥꾼이 할머니 댁을 지나가면서 생각했습니다. 할머니가 왜 이렇게 시끄럽게 코를 고시는 거지? 가서 할머니에게 문제가 있나 확인해봐야겠다. 그래서 그는 할머니 방 안으로 들어갔습니다. 그가 침대로 왔을 때, 그는 늑대가 거기에 누워있는 것을 봤습니다. 너를 여기서 보는구나 사냥꾼이 말했습니다. 내가 너를 오랫동안 찾아다녔지. 이제 그는 늑대에게 총을 쏘려고 했습니다. 그런데 그때 그에게 무언가 떠올랐습니다. 늑대가 할머니를 잡아먹었지만, 할머니를 구할 수 있을지도 몰라. 총을 쏘면 안돼. 그 대신에 사냥꾼은 가위를 가져와서 자고 있는 늑대의 배를 가르기 시작했습니다. 잠시 후에 그는 빨간 모자를 발견했습니다. 그리고 늑대 배를 조금 더 자르자 빨간 모자가 나와서 말했습니다. 저는 정말 무서웠어요. 늑대 배 안은 정말 어두웠어요! 그리고 할머니도 살아서 나왔고 가까스로 숨을 쉬었습니다.빨간 모자가 무거운 돌들을 가져와서 늑대의 배 안을 그 돌로 채웠습니다. 그래서 늑대가 깨어났을 때, 그가 도망가려고 해도 돌이 너무 무거워서 넘어져 죽을 것입니다. 그 세 명은 모두 행복했습니다. 사냥꾼은 늑대의 가죽을 가져갔습니다. 할머니는 빨간 모자가 가져 온 먹고 와인을 마시고 병에서 회복했습니다. 빨간 모자는 생각했습니다. 내가 살아있는 동안 엄마가 허락하지 않으시면 다시는 혼자 길에서 벗어나지 않을 거야.이 이야기도 말해야 합니다. 빨간 모자가 할머니께 다시 케이크를 드리러 갈 때, 또 다른 늑대가 와서 빨간 모자에게 말을 시키고 빨간 모자가 길에서 벗어나게 하려고 했습니다. 하지만 빨간 모자는 늑대를 경계하며 바로 할머니 댁으로 갔습니다. 빨간 모자가 할머니께 자기에게 인사를 했지만 자기를 째려보는 늑대를 만났다고 말했습니다. 내가 사람들이 있는 거리에 있지 않았다면, 늑대가 나를 잡아먹었을 거에요. 이리 와라 할머니가 말씀하셨습니다. 우리 늑대가 들어오지 못하게 문을 닫자. 곧 늑대가 와서 문을 두드리며 말했습니다. 할머니, 문 열어주세요. 저에요, 빨간 모자. 제가 할머니께 케이크를 드리러 왔어요. 하지만 할머니는 아무 말도 하지 않고 문을 열어주지 않았습니다. 그랬더니 그 나쁜 늑대가 계속 할머니 집 주위를 걸어 다니더니 마침내 지붕 위로 뛰어 올랐습니다. 늑대는 빨간 모자가 저녁에 집에 갈 때까지 기다려 빨간 모자를 따라가서 어둠 속에서 몰래 잡아먹으려고 했습니다. 하지만 할머니는 늑대가 무엇을 하려고 하는지 알았습니다. 집 앞에 큰 양동이가 있었습니다. 할머니는 빨간 모자에게 말했습니다. 빨간 모자야, 저기서 양동이를 가져와라. 내가 어제 거기에 소시지를 구웠다. 그 양동이에 물을 부어라! 빨간 모자는 양동이가 완전히 찰 때까지 물을 채웠습니다. 그래서 소시지 냄새가 늑대의 코까지 올라갔습니다. 늑대는 냄새를 맡고 아래를 내려봤습니다. 결국 늑대가 너무 목을 아래로 내린 나머지, 스스로 지탱할 수 없어서 아래로 떨어졌습니다. 늑대는 굴뚝으로 미끄러져 내려와 양동이에 빠져 죽었습니다. 그리고 빨간 모자는 행복하고 안전하게 집에 돌아왔습니다.'"
            ]
          },
          "metadata": {
            "tags": []
          },
          "execution_count": 47
        }
      ]
    },
    {
      "cell_type": "code",
      "metadata": {
        "colab": {
          "base_uri": "https://localhost:8080/"
        },
        "id": "0RFDD5MhrLK5",
        "outputId": "d3fe892c-1202-4067-9bd8-e459fd46a700"
      },
      "source": [
        "import kss\n",
        "\n",
        "new_datalines = kss.split_sentences(data)\n",
        "len(new_datalines)"
      ],
      "execution_count": null,
      "outputs": [
        {
          "output_type": "execute_result",
          "data": {
            "text/plain": [
              "112"
            ]
          },
          "metadata": {
            "tags": []
          },
          "execution_count": 48
        }
      ]
    },
    {
      "cell_type": "code",
      "metadata": {
        "id": "moUZrvc3rg1l"
      },
      "source": [
        "pred = pd.DataFrame({\"contents\": new_datalines})"
      ],
      "execution_count": null,
      "outputs": []
    },
    {
      "cell_type": "code",
      "metadata": {
        "colab": {
          "base_uri": "https://localhost:8080/"
        },
        "id": "TZpO1gKKrjkY",
        "outputId": "980506ee-dac7-473f-efe8-deb10cff7b9c"
      },
      "source": [
        "#토큰화\n",
        "tokenizer = get_tokenizer()\n",
        "tok = nlp.data.BERTSPTokenizer(tokenizer, vocab, lower=False)"
      ],
      "execution_count": null,
      "outputs": [
        {
          "output_type": "stream",
          "text": [
            "using cached model\n"
          ],
          "name": "stdout"
        }
      ]
    },
    {
      "cell_type": "code",
      "metadata": {
        "id": "LzYYg7JVtOFN"
      },
      "source": [
        "def predict(predict_sentence):\n",
        "    sentiment_list = []\n",
        "\n",
        "    for sentence in predict_sentence:\n",
        "        data = [sentence, '0']\n",
        "        dataset_another = [data]\n",
        "\n",
        "        another_test = BERTDataset(dataset_another, 0, 1, tok, max_len, True, False)\n",
        "        test_dataloader = torch.utils.data.DataLoader(another_test, batch_size=batch_size, num_workers=4)\n",
        "        \n",
        "        model.eval()\n",
        "        for batch_id, (token_ids, valid_length, segment_ids, label) in enumerate(test_dataloader):\n",
        "            token_ids = token_ids.long().to(device)\n",
        "            segment_ids = segment_ids.long().to(device)\n",
        "            valid_length= valid_length\n",
        "            label = label.long().to(device)\n",
        "            out = model(token_ids, valid_length, segment_ids)\n",
        "            test_eval=[]\n",
        "\n",
        "            for i in out:\n",
        "                logits=i\n",
        "                logits = logits.detach().cpu().numpy()\n",
        "                if np.argmax(logits) == 0:\n",
        "                    test_eval.append('neutral')\n",
        "                elif np.argmax(logits) == 1:\n",
        "                    test_eval.append('happiness')\n",
        "                elif np.argmax(logits) == 2:\n",
        "                    test_eval.append('surprise')\n",
        "                elif np.argmax(logits) == 3:\n",
        "                    test_eval.append('disgust')\n",
        "                elif np.argmax(logits) == 4:\n",
        "                    test_eval.append('fear')\n",
        "                elif np.argmax(logits) == 5:\n",
        "                    test_eval.append('anger')\n",
        "                elif np.argmax(logits) == 6:\n",
        "                    test_eval.append('sadness')\n",
        "\n",
        "            sentiment_list.append(test_eval[0])\n",
        "\n",
        "    return sentiment_list"
      ],
      "execution_count": null,
      "outputs": []
    },
    {
      "cell_type": "code",
      "metadata": {
        "id": "S55pjA0stOCk"
      },
      "source": [
        "sents = list(pred['contents'])\n",
        "sentiment_list = predict(sents)"
      ],
      "execution_count": null,
      "outputs": []
    },
    {
      "cell_type": "code",
      "metadata": {
        "colab": {
          "base_uri": "https://localhost:8080/",
          "height": 203
        },
        "id": "wGxwcP2gtN2l",
        "outputId": "8b7f95bd-866b-470b-8897-b2debdcd7fc2"
      },
      "source": [
        "pred['sentiment'] = sentiment_list\n",
        "pred.head()"
      ],
      "execution_count": null,
      "outputs": [
        {
          "output_type": "execute_result",
          "data": {
            "text/html": [
              "<div>\n",
              "<style scoped>\n",
              "    .dataframe tbody tr th:only-of-type {\n",
              "        vertical-align: middle;\n",
              "    }\n",
              "\n",
              "    .dataframe tbody tr th {\n",
              "        vertical-align: top;\n",
              "    }\n",
              "\n",
              "    .dataframe thead th {\n",
              "        text-align: right;\n",
              "    }\n",
              "</style>\n",
              "<table border=\"1\" class=\"dataframe\">\n",
              "  <thead>\n",
              "    <tr style=\"text-align: right;\">\n",
              "      <th></th>\n",
              "      <th>contents</th>\n",
              "      <th>sentiment</th>\n",
              "    </tr>\n",
              "  </thead>\n",
              "  <tbody>\n",
              "    <tr>\n",
              "      <th>0</th>\n",
              "      <td>옛날 옛날에 모두의 사랑을 받는 작고 귀여운 소녀가 있었습니다.</td>\n",
              "      <td>neutral</td>\n",
              "    </tr>\n",
              "    <tr>\n",
              "      <th>1</th>\n",
              "      <td>하지만 그 소녀를 가장 사랑하는 것은 그녀의 할머니였습니다.</td>\n",
              "      <td>happiness</td>\n",
              "    </tr>\n",
              "    <tr>\n",
              "      <th>2</th>\n",
              "      <td>할머니는 소녀에게 무엇을 줘야 할지 몰랐습니다. 한번은 할머니가 소녀에게 붉은 벨벳...</td>\n",
              "      <td>happiness</td>\n",
              "    </tr>\n",
              "    <tr>\n",
              "      <th>3</th>\n",
              "      <td>소녀에게 그 모자가 잘 어울렸고, 소녀가 그 모자가 아닌 다른 것은 쓰지 않으려고 ...</td>\n",
              "      <td>neutral</td>\n",
              "    </tr>\n",
              "    <tr>\n",
              "      <th>4</th>\n",
              "      <td>그래서 그 소녀는 빨간 모자라고 불렸습니다.</td>\n",
              "      <td>neutral</td>\n",
              "    </tr>\n",
              "  </tbody>\n",
              "</table>\n",
              "</div>"
            ],
            "text/plain": [
              "                                            contents  sentiment\n",
              "0                옛날 옛날에 모두의 사랑을 받는 작고 귀여운 소녀가 있었습니다.    neutral\n",
              "1                  하지만 그 소녀를 가장 사랑하는 것은 그녀의 할머니였습니다.  happiness\n",
              "2  할머니는 소녀에게 무엇을 줘야 할지 몰랐습니다. 한번은 할머니가 소녀에게 붉은 벨벳...  happiness\n",
              "3  소녀에게 그 모자가 잘 어울렸고, 소녀가 그 모자가 아닌 다른 것은 쓰지 않으려고 ...    neutral\n",
              "4                           그래서 그 소녀는 빨간 모자라고 불렸습니다.    neutral"
            ]
          },
          "metadata": {
            "tags": []
          },
          "execution_count": 53
        }
      ]
    },
    {
      "cell_type": "code",
      "metadata": {
        "id": "GJ_gOa3Kr1bi"
      },
      "source": [
        "pred.to_csv('/content/drive/MyDrive/데청캠_teamproject/정상희/0810_빨간모자_감정태깅_onlytales.csv', encoding='utf-8-sig', index=True)"
      ],
      "execution_count": null,
      "outputs": []
    }
  ]
}